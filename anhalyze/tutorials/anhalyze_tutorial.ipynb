{
 "cells": [
  {
   "cell_type": "markdown",
   "id": "5180c457-57ec-476a-9471-f1af802977b7",
   "metadata": {},
   "source": [
    "# Anhalyze Tutorial \n",
    "\n",
    "\n",
    "In this tutorial we'll take you to discover the capabilities of Anhalyze. \n",
    "In particular those ones from `AnhaDataset`, which is a python class that handles single `.nc` outputs from [NEMO](https://www.nemo-ocean.eu/) \n",
    "ocean model simulations with the [ANHA](https://canadian-nemo-ocean-modelling-forum-commuity-of-practice.readthedocs.io/en/latest/Institutions/UofA/Configurations/ANHA4/index.html) confinguration. \n",
    "\n",
    "We will be using tracer variables from NEMO ocean modules stored in gridT type files, \n",
    "as well as icebergs variables from the ICB module outputs.\n",
    "\n",
    "We'll get these files by using `downloader`, an anhalyze module.\n",
    "\n",
    "This tutorial assumes that you followed the installation instructions in the README.\n",
    "\n",
    "#### Table of Contents:\n",
    "\n",
    "* [Set Up](#set-up)\n",
    "* [Example1: gridT](#example1)\n",
    "    * [Static information](#static_info)\n",
    "    * [Dynamic Functions](#methods)\n",
    "* [Example2: icebergs](#example2)\n",
    "\n"
   ]
  },
  {
   "cell_type": "markdown",
   "id": "55ed81ac-7b52-4686-b750-f8693a5c06e8",
   "metadata": {},
   "source": [
    "### Set Up <a class=\"anchor\" id=\"set-up\"></a>\n"
   ]
  },
  {
   "cell_type": "code",
   "execution_count": null,
   "id": "13d93291-c616-4865-bcda-0fb26748c71c",
   "metadata": {},
   "outputs": [],
   "source": [
    "%load_ext autoreload\n",
    "%autoreload 2\n",
    "\n",
    "# First we import anhalyze \n",
    "import anhalyze as ah\n",
    "\n",
    "# ... and the downloader which \n",
    "import anhalyze.core.downloader as dw\n",
    "\n",
    "# ... and other libraries we need\n",
    "import os\n"
   ]
  },
  {
   "cell_type": "code",
   "execution_count": null,
   "id": "51912309-eeba-4108-982c-5d00ebeffdc7",
   "metadata": {},
   "outputs": [],
   "source": [
    "# This shows you how tu use this function\n",
    "dw.download_example?"
   ]
  },
  {
   "cell_type": "code",
   "execution_count": null,
   "id": "05a9740b-2895-46bf-bb41-72a226024ec9",
   "metadata": {},
   "outputs": [],
   "source": [
    "# First, lets download the model output files we mentioned. \n",
    "\n",
    "# This downloads a gridT file as default.\n",
    "dw.download_example()\n",
    "\n",
    "# To download a different file you must specify the file_type. \n",
    "# The options are showed in the function help in the above output cell.\n",
    "# This downloads the iceberg file.\n",
    "dw.download_example(file_type='icebergs')\n",
    "\n",
    "# The code should let you know when/if the download has been succesful. "
   ]
  },
  {
   "cell_type": "code",
   "execution_count": null,
   "id": "40ed8db1-02c1-4f9f-b21d-404b191f8c4c",
   "metadata": {},
   "outputs": [],
   "source": [
    "# The example files have been downloaded to this location: \n",
    "\n",
    "ah.PACKAGE_DATA_DIR\n",
    "\n",
    "# Which is within the Anhalyze installation directory. "
   ]
  },
  {
   "cell_type": "markdown",
   "id": "6090c591-ffdb-41db-bce1-d19962df29d9",
   "metadata": {},
   "source": [
    "## Example 1: gridT <a class=\"anchor\" id=\"example1\"></a>\n",
    "\n",
    "Lets use the gridT file to look at some temperature and sality data.\n"
   ]
  },
  {
   "cell_type": "code",
   "execution_count": null,
   "id": "ab68bcba-6f9e-452f-95e0-eb38c1475aa4",
   "metadata": {},
   "outputs": [],
   "source": [
    "# Listing the files in the directory above, we can check if there is\n",
    "# a file with the string gridT in the name, then retreive the file name.\n",
    "gridT_example_filename = [filename for filename in os.listdir(ah.PACKAGE_DATA_DIR) if 'gridT' in filename][0]\n",
    "gridT_example_filename"
   ]
  },
  {
   "cell_type": "code",
   "execution_count": null,
   "id": "ffe6b148-5a33-42ae-8935-c0bf917126d7",
   "metadata": {},
   "outputs": [],
   "source": [
    "# Now we are ready to use `AnhaDataset` for the first time. \n",
    "# The class needs only the file name if located in the current directory, \n",
    "# otherwise one needs to provide the full/relative path to the file (as in this tutorial):\n",
    "gridT_example = ah.AnhaDataset(ah.PACKAGE_DATA_DIR+'/'+gridT_example_filename)\n",
    "\n",
    "# Technical note: \n",
    "# If you have not downloaded the mask file yet, it will be automatically downloaded at this point."
   ]
  },
  {
   "cell_type": "code",
   "execution_count": null,
   "id": "4235f9bf-bb9f-498e-bab9-e33eaf5cd25c",
   "metadata": {},
   "outputs": [],
   "source": [
    "# Here you can find more information about how to use `AnhaDataset`.\n",
    "\n",
    "ah.AnhaDataset?\n",
    "\n",
    "# Technical note: \n",
    "# If you are familiar with the library `xarray` to open `.nc` files.\n",
    "# You can see here `Anhadataset` is kind of a wrapper to `xarray.Dataset` with specific implemetation for ANHA files. \n"
   ]
  },
  {
   "cell_type": "markdown",
   "id": "d4d7ab90-46f5-4a7e-8b5a-259b4dd30895",
   "metadata": {},
   "source": [
    "### Static information <a class=\"anchor\" id=\"static_info\"></a>\n",
    "\n",
    "We can then we can look at the information in the file:\n"
   ]
  },
  {
   "cell_type": "code",
   "execution_count": null,
   "id": "0cb953df-7baf-46ef-bcff-f7ad76499434",
   "metadata": {},
   "outputs": [],
   "source": [
    "# The dimentions can be accessed like this:\n",
    "gridT_example.dims"
   ]
  },
  {
   "cell_type": "code",
   "execution_count": null,
   "id": "4c792c5f-f049-46bf-a076-bb961bb9f9ab",
   "metadata": {},
   "outputs": [],
   "source": [
    "# The dictionary of Anhalyze attributes are shown like this: \n",
    "gridT_example.attrs\n",
    "\n",
    "# Technical note: \n",
    "# This contains the original attributes found in `xarray.Dataset.attrs`, and includes more information specific to Anhalyze."
   ]
  },
  {
   "cell_type": "code",
   "execution_count": null,
   "id": "85a5b0a9-9334-4327-a662-9e5756435f02",
   "metadata": {},
   "outputs": [],
   "source": [
    "# The coordinates can be viewed like this:\n",
    "gridT_example.coords\n"
   ]
  },
  {
   "cell_type": "code",
   "execution_count": null,
   "id": "f66ebb08-fb01-4adf-88fe-919cc4d2e487",
   "metadata": {},
   "outputs": [],
   "source": [
    "# The data variables and their general information can be displayed like this:\n",
    "gridT_example.data_vars\n"
   ]
  },
  {
   "cell_type": "code",
   "execution_count": null,
   "id": "79e810fe-69c2-4cb5-8f15-5850734385d2",
   "metadata": {},
   "outputs": [],
   "source": [
    "# You can also use this nice html representation which gives you more flexibility by allowing you \n",
    "# to manipulate the way you see all the information above with the exeption of attrs, \n",
    "# which only shows the original information in the file. \n",
    "\n",
    "gridT_example"
   ]
  },
  {
   "cell_type": "markdown",
   "id": "e709d125-8f50-42a4-b97b-422fd3a55bc5",
   "metadata": {},
   "source": [
    "### Dynamic Functions <a class=\"anchor\" id=\"methods\"></a>\n",
    "\n",
    "The example file was open with `AnhaDataset` and is then an *instance* of that python class. As such, besided the static information (class *attributes*), it also contains functions (class *methods*).\n"
   ]
  },
  {
   "cell_type": "markdown",
   "id": "1a78df27-a5f3-4c49-b228-2c3ed9ae78e1",
   "metadata": {},
   "source": [
    "#### Data Selection"
   ]
  },
  {
   "cell_type": "code",
   "execution_count": null,
   "id": "5e92376f-24c4-4115-b506-78e706b56783",
   "metadata": {},
   "outputs": [],
   "source": [
    "# We can select a region based on given ranges of latitude(degrees North), longitude(degrees East) and/or depth (positive). \n",
    "# We give values in the specified units.\n",
    "\n",
    "gridT_example.sel?"
   ]
  },
  {
   "cell_type": "code",
   "execution_count": null,
   "id": "0fffe914-b2a0-4758-9499-af6cabf59230",
   "metadata": {},
   "outputs": [],
   "source": [
    "# We can also select a region based on given ranges of latitude, longitude and depth. \n",
    "# But using grid indexing, indicating i, j, and k positions.\n",
    "\n",
    "gridT_example.isel?"
   ]
  },
  {
   "cell_type": "code",
   "execution_count": null,
   "id": "36cc0785-2571-420c-bb88-0c27df226082",
   "metadata": {},
   "outputs": [],
   "source": [
    "# We'll then select a region by given latitude, longitude and depth ranges. \n",
    "# Let's create a new AnhaDataset with the selection:\n",
    "\n",
    "gridT_example_region = gridT_example.sel(lat_range=[50,65],lon_range=[-93,-75],depth_range=[0,300])\n",
    "\n",
    "# Note you can also call it like this:  \n",
    "# gridT_example_region = gridT_example.sel([50,65],[-93,-75],[0,300])\n",
    "# as long as you give latitude, longitude and depth range in that order.\n"
   ]
  },
  {
   "cell_type": "code",
   "execution_count": null,
   "id": "dac3420f-f2d9-48dc-af10-415d4d8c3f19",
   "metadata": {},
   "outputs": [],
   "source": [
    "# You can inspect the selected region attributes like this:\n",
    "\n",
    "gridT_example_region"
   ]
  },
  {
   "cell_type": "markdown",
   "id": "12c7a3ac-b7d8-443c-8b9e-9971b7b76f02",
   "metadata": {},
   "source": [
    "#### File input/output (I/O)"
   ]
  },
  {
   "cell_type": "code",
   "execution_count": null,
   "id": "59c0e444-c665-4174-b699-39ff2856d5ae",
   "metadata": {},
   "outputs": [],
   "source": [
    "# This new AnhaDataset can be saved to disk as netcdf file \n",
    "# with the following command\n",
    "\n",
    "gridT_example_region.to_netcdf?\n",
    "\n",
    "# We caution here that contratry to xarray.Dataset.to_netcdf we avoid overwriting files.\n",
    "# The function adds a suffix to the new netcdf file, which can be chosen by the user."
   ]
  },
  {
   "cell_type": "code",
   "execution_count": null,
   "id": "5485602f-db4b-41ba-8bb4-64a6261f26ef",
   "metadata": {},
   "outputs": [],
   "source": [
    "\n",
    "# This new dataset can be saved to disk:\n",
    "gridT_example_region.to_netcdf()\n",
    "\n",
    "# .. and open again by adding the defuault suffix\n",
    "region_filename = ah.PACKAGE_DATA_DIR+'/'+gridT_example_filename.replace('.nc','_CutRegion.nc')\n",
    "gridT_example_region_from_file = ah.AnhaDataset(region_filename)\n"
   ]
  },
  {
   "cell_type": "code",
   "execution_count": null,
   "id": "03a3be69-a2fb-4439-98ba-ab1d954622a4",
   "metadata": {},
   "outputs": [],
   "source": [
    "# Again, you can inspect the attributes like this:\n",
    "\n",
    "gridT_example_region_from_file"
   ]
  },
  {
   "cell_type": "markdown",
   "id": "8a4ae26f-f198-4ac3-86b0-f51ed38fad35",
   "metadata": {},
   "source": [
    "#### Mapping"
   ]
  },
  {
   "cell_type": "code",
   "execution_count": null,
   "id": "e0d8f1d9-c917-4df3-b8cd-ef02bb065509",
   "metadata": {},
   "outputs": [],
   "source": [
    "# The last but not least Anhalyze tool is to plot spatial data\n",
    "# into a projected map, creating figures in a vary simple way.\n",
    "\n",
    "gridT_example_region.show_var_data_map?\n"
   ]
  },
  {
   "cell_type": "code",
   "execution_count": null,
   "id": "32ff75d4-aeb5-4972-8a47-03d7384405d8",
   "metadata": {},
   "outputs": [],
   "source": [
    "# Here we show the sea surface temperature, and you can see the region we selected is Hudson Bay!\n",
    "\n",
    "gridT_example_region_from_file.show_var_data_map(var='votemper')\n",
    "\n",
    "# You might be wondering: I gave a depth range, what is the plotting showing?\n",
    "# For now, the function only plots the first selected layer. "
   ]
  },
  {
   "cell_type": "code",
   "execution_count": null,
   "id": "0f2cdf8b-b1f1-4f82-ae69-48c2d9e8c45f",
   "metadata": {},
   "outputs": [],
   "source": [
    "# we can change the color range and projection like this:\n",
    "\n",
    "gridT_example_region_from_file.show_var_data_map(var='votemper', color_range='relative', projection_name='Mercator')"
   ]
  },
  {
   "cell_type": "code",
   "execution_count": null,
   "id": "8c36d944-3969-4332-88d5-0c24270c3972",
   "metadata": {},
   "outputs": [],
   "source": [
    "# The color palette uses the cmocean library \n",
    "# which is a package to help standardize colormaps for commonly-plotted oceanographic properties.\n",
    "\n",
    "# Here we show salinity with the respective colormap. \n",
    "\n",
    "gridT_example_region_from_file.show_var_data_map(var='vosaline', projection_name='Robinson')"
   ]
  },
  {
   "cell_type": "code",
   "execution_count": null,
   "id": "4a578969-5a26-42d1-b6fa-e4c160b70335",
   "metadata": {},
   "outputs": [],
   "source": [
    "# finally we can save the figure to file:\n",
    "\n",
    "savefig_filename = gridT_example_region_from_file.attrs['filename'].replace('.nc','.png')\n",
    "gridT_example_region_from_file.show_var_data_map(var='vosaline',savefig=savefig_filename)\n"
   ]
  },
  {
   "cell_type": "markdown",
   "id": "b3c3b74e-b24e-4594-9b7e-68d4f97f70d0",
   "metadata": {},
   "source": [
    "## Example 2: icebergs <a class=\"anchor\" id=\"example2\"></a>\n",
    "\n",
    "\n",
    "We can also open iceberg and icemod files! \n",
    "Lets use the icebergs file we downloaded at the begining of the tutorial. \n"
   ]
  },
  {
   "cell_type": "code",
   "execution_count": null,
   "id": "b9e93450-8e58-40d9-8b3f-b6a5617e8281",
   "metadata": {},
   "outputs": [],
   "source": [
    "# Now lets check the icebergs example\n",
    "\n",
    "icebergs_example_filename = [filename for filename in os.listdir(ah.PACKAGE_DATA_DIR) if 'icebergs' in filename][0]\n",
    "icebergs_example_filename\n"
   ]
  },
  {
   "cell_type": "code",
   "execution_count": null,
   "id": "70a6786c-0c76-49c8-a213-76e2aebb78e6",
   "metadata": {},
   "outputs": [],
   "source": [
    "# we open the file the same way\n",
    "# we have almost all the functionallity avaialble except for depth. \n",
    "\n",
    "icebergs_example = ah.AnhaDataset(ah.PACKAGE_DATA_DIR+'/'+icebergs_example_filename)\n",
    "icebergs_example"
   ]
  },
  {
   "cell_type": "code",
   "execution_count": null,
   "id": "7780dae5-a3a1-4504-ad58-57b4ad45b286",
   "metadata": {},
   "outputs": [],
   "source": [
    "# We can look at the melting rate for instance:\n",
    "\n",
    "icebergs_example.data_vars['berg_floating_melt']"
   ]
  },
  {
   "cell_type": "code",
   "execution_count": null,
   "id": "9a2969dd-7401-4c56-94a4-f37087f30867",
   "metadata": {},
   "outputs": [],
   "source": [
    "\n",
    "# we first select a region\n",
    "icebergs_example_region = icebergs_example.sel(lat_range=[55,80],lon_range=[-65,-55])\n",
    "\n",
    "# and then we can map it\n",
    "icebergs_example_region.show_var_data_map('berg_floating_melt', projection_name='Mercator')\n"
   ]
  }
 ],
 "metadata": {
  "kernelspec": {
   "display_name": "Python 3 (ipykernel)",
   "language": "python",
   "name": "python3"
  },
  "language_info": {
   "codemirror_mode": {
    "name": "ipython",
    "version": 3
   },
   "file_extension": ".py",
   "mimetype": "text/x-python",
   "name": "python",
   "nbconvert_exporter": "python",
   "pygments_lexer": "ipython3",
   "version": "3.11.7"
  }
 },
 "nbformat": 4,
 "nbformat_minor": 5
}
