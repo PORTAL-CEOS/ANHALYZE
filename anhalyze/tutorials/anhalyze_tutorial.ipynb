{
 "cells": [
  {
   "cell_type": "markdown",
   "id": "5180c457-57ec-476a-9471-f1af802977b7",
   "metadata": {},
   "source": [
    "# Anhalyze Tutorial \n",
    "\n",
    "\n",
    "This tutorial takes you to discover the capabilities of Anhalyze. \n",
    "In particular of `AnhaDataset`, which is a python class that handles single `.nc` files \n",
    "created using NEMO with the ANHA confinguration. \n",
    "\n",
    "Here we'll also use `downloader` a function that allows us to download a couple of test files used in the tutorial.\n",
    "\n",
    "This tutorial assumes that you followed the installation instructions in the README.\n",
    "\n",
    "#### Table of Contents:\n",
    "\n",
    "* [Set Up](#set-up)\n",
    "* [Example1: gridT](#example1)\n",
    "    * [Static information](#static_info)\n",
    "    * [Dynamic Functions](#methods)\n",
    "* [Example2: icebergs](#example2)\n",
    "\n"
   ]
  },
  {
   "cell_type": "markdown",
   "id": "55ed81ac-7b52-4686-b750-f8693a5c06e8",
   "metadata": {},
   "source": [
    "### Set Up <a class=\"anchor\" id=\"set-up\"></a>\n"
   ]
  },
  {
   "cell_type": "code",
   "execution_count": null,
   "id": "13d93291-c616-4865-bcda-0fb26748c71c",
   "metadata": {},
   "outputs": [],
   "source": [
    "%load_ext autoreload\n",
    "%autoreload 2\n",
    "\n",
    "# First we import anhalyze \n",
    "import anhalyze as ah\n",
    "\n",
    "# ... and the downloader which \n",
    "import anhalyze.core.downloader as dw\n",
    "\n",
    "# ... and other libraries we need\n",
    "import os\n"
   ]
  },
  {
   "cell_type": "code",
   "execution_count": null,
   "id": "51912309-eeba-4108-982c-5d00ebeffdc7",
   "metadata": {},
   "outputs": [],
   "source": [
    "# This shows you how tu use this function\n",
    "dw.download_example?"
   ]
  },
  {
   "cell_type": "code",
   "execution_count": null,
   "id": "05a9740b-2895-46bf-bb41-72a226024ec9",
   "metadata": {},
   "outputs": [],
   "source": [
    "# Firsts lets download some files\n",
    "\n",
    "# This downloads a gridT file.\n",
    "dw.download_example()\n",
    "\n",
    "# ... and this an iceberg.\n",
    "dw.download_example(file_type='icebergs')\n"
   ]
  },
  {
   "cell_type": "code",
   "execution_count": null,
   "id": "40ed8db1-02c1-4f9f-b21d-404b191f8c4c",
   "metadata": {},
   "outputs": [],
   "source": [
    "# The example files have been downloaded to this location: \n",
    "\n",
    "ah.PACKAGE_DATA_DIR\n"
   ]
  },
  {
   "cell_type": "markdown",
   "id": "6090c591-ffdb-41db-bce1-d19962df29d9",
   "metadata": {},
   "source": [
    "## Example 1: gridT <a class=\"anchor\" id=\"example1\"></a>\n",
    "\n",
    "Lets use the gridT file to look at some temperature and sality data.\n"
   ]
  },
  {
   "cell_type": "code",
   "execution_count": null,
   "id": "ab68bcba-6f9e-452f-95e0-eb38c1475aa4",
   "metadata": {},
   "outputs": [],
   "source": [
    "\n",
    "# Lets get the filename of the gridT file.\n",
    "gridT_example_filename = [filename for filename in os.listdir(ah.PACKAGE_DATA_DIR) if 'gridT' in filename][0]\n",
    "gridT_example_filename\n",
    "\n",
    "# Now we can open the file with\n",
    "gridT_example = ah.AnhaDataset(ah.PACKAGE_DATA_DIR+'/'+gridT_example_filename)\n",
    "\n"
   ]
  },
  {
   "cell_type": "code",
   "execution_count": null,
   "id": "4235f9bf-bb9f-498e-bab9-e33eaf5cd25c",
   "metadata": {},
   "outputs": [],
   "source": [
    "# Here you can find more information about how to use `AnhaDataset`.\n",
    "\n",
    "ah.AnhaDataset?\n",
    "\n",
    "# Technical note: \n",
    "# If you are familiar with the library `xarray` to open `.nc` files.\n",
    "# You can see here `Anhadataset` is kind of a wrapper to `xarray.Dataset` with specific implemetation for ANHA files. \n"
   ]
  },
  {
   "cell_type": "markdown",
   "id": "d4d7ab90-46f5-4a7e-8b5a-259b4dd30895",
   "metadata": {},
   "source": [
    "### Static information <a class=\"anchor\" id=\"static_info\"></a>\n",
    "\n",
    "We can then we can look at the information in the file:\n"
   ]
  },
  {
   "cell_type": "code",
   "execution_count": null,
   "id": "0cb953df-7baf-46ef-bcff-f7ad76499434",
   "metadata": {},
   "outputs": [],
   "source": [
    "# It includes dimentions\n",
    "gridT_example.dims"
   ]
  },
  {
   "cell_type": "code",
   "execution_count": null,
   "id": "4c792c5f-f049-46bf-a076-bb961bb9f9ab",
   "metadata": {},
   "outputs": [],
   "source": [
    "# ... attributes\n",
    "gridT_example.attrs\n",
    "\n",
    "# This contains the `xarray.Dataset.attrs` in 'xr_attrs', and includes more information specific to Anhalize."
   ]
  },
  {
   "cell_type": "code",
   "execution_count": null,
   "id": "85a5b0a9-9334-4327-a662-9e5756435f02",
   "metadata": {},
   "outputs": [],
   "source": [
    "# ... coordinates\n",
    "gridT_example.coords\n"
   ]
  },
  {
   "cell_type": "code",
   "execution_count": null,
   "id": "f66ebb08-fb01-4adf-88fe-919cc4d2e487",
   "metadata": {},
   "outputs": [],
   "source": [
    "# ... and data information\n",
    "gridT_example.data_vars\n"
   ]
  },
  {
   "cell_type": "code",
   "execution_count": null,
   "id": "79e810fe-69c2-4cb5-8f15-5850734385d2",
   "metadata": {},
   "outputs": [],
   "source": [
    "# you can also use this nice html representation which allows to manipulate the way you see all the information above.\n",
    "\n",
    "gridT_example"
   ]
  },
  {
   "cell_type": "markdown",
   "id": "e709d125-8f50-42a4-b97b-422fd3a55bc5",
   "metadata": {},
   "source": [
    "### Dynamic Functions <a class=\"anchor\" id=\"methods\"></a>\n",
    "\n",
    "The example file was open with `AnhaDataset` and is then an *instance* of that python class. As such, besided the static information (class *attributes*), it also contains functions (class *methods*).\n"
   ]
  },
  {
   "cell_type": "markdown",
   "id": "1a78df27-a5f3-4c49-b228-2c3ed9ae78e1",
   "metadata": {},
   "source": [
    "#### Data Selection"
   ]
  },
  {
   "cell_type": "code",
   "execution_count": null,
   "id": "5e92376f-24c4-4115-b506-78e706b56783",
   "metadata": {},
   "outputs": [],
   "source": [
    "# We can select a region based on given ranges of latitude, longitude and depth. \n",
    "# We give values in the specified units.\n",
    "\n",
    "gridT_example.sel?"
   ]
  },
  {
   "cell_type": "code",
   "execution_count": null,
   "id": "0fffe914-b2a0-4758-9499-af6cabf59230",
   "metadata": {},
   "outputs": [],
   "source": [
    "# We can also select a region based on given ranges of latitude, longitude and depth. But using grid units\n",
    "\n",
    "gridT_example.isel?"
   ]
  },
  {
   "cell_type": "code",
   "execution_count": null,
   "id": "36cc0785-2571-420c-bb88-0c27df226082",
   "metadata": {},
   "outputs": [],
   "source": [
    "# We'll then select a region and save it to another variable like this:\n",
    "\n",
    "gridT_example_region = gridT_example.sel(lat_range=[50,65],lon_range=[-93,-75],depth_range=[0,300])\n",
    "\n",
    "# Note you can also call it like this, as long as you give latitude, longitude and depth in that order. \n",
    "# gridT_example_region = gridT_example.sel([50,65],[-93,-75],[0,300])"
   ]
  },
  {
   "cell_type": "code",
   "execution_count": null,
   "id": "dac3420f-f2d9-48dc-af10-415d4d8c3f19",
   "metadata": {},
   "outputs": [],
   "source": [
    "# and can inspection the selected region like this too\n",
    "\n",
    "gridT_example_region"
   ]
  },
  {
   "cell_type": "markdown",
   "id": "12c7a3ac-b7d8-443c-8b9e-9971b7b76f02",
   "metadata": {},
   "source": [
    "#### File input/output (I/O)"
   ]
  },
  {
   "cell_type": "code",
   "execution_count": null,
   "id": "59c0e444-c665-4174-b699-39ff2856d5ae",
   "metadata": {},
   "outputs": [],
   "source": [
    "# This new file can be saved to disk with this command\n",
    "\n",
    "gridT_example_region.to_netcdf?\n",
    "\n",
    "# see we caution here that contratry to xarray.Dataset.to_netcdf we avoid overwriting files."
   ]
  },
  {
   "cell_type": "code",
   "execution_count": null,
   "id": "5485602f-db4b-41ba-8bb4-64a6261f26ef",
   "metadata": {},
   "outputs": [],
   "source": [
    "\n",
    "# This new dataset can be saved to disk:\n",
    "gridT_example_region.to_netcdf()\n",
    "\n",
    "# .. and open again by adding the defuault suffix\n",
    "region_filename = ah.PACKAGE_DATA_DIR+'/'+gridT_example_filename.replace('.nc','_CutRegion.nc')\n",
    "gridT_example_region_from_file = ah.AnhaDataset(region_filename)\n"
   ]
  },
  {
   "cell_type": "code",
   "execution_count": null,
   "id": "03a3be69-a2fb-4439-98ba-ab1d954622a4",
   "metadata": {},
   "outputs": [],
   "source": [
    "# again can inspect like this\n",
    "\n",
    "gridT_example_region_from_file"
   ]
  },
  {
   "cell_type": "markdown",
   "id": "8a4ae26f-f198-4ac3-86b0-f51ed38fad35",
   "metadata": {},
   "source": [
    "#### Mapping"
   ]
  },
  {
   "cell_type": "code",
   "execution_count": null,
   "id": "e0d8f1d9-c917-4df3-b8cd-ef02bb065509",
   "metadata": {},
   "outputs": [],
   "source": [
    "# We can also make a map to show the data with \n",
    "\n",
    "gridT_example_region.show_var_data_map?\n",
    "\n",
    "#TODO show a couple of projections and a couple of vars"
   ]
  },
  {
   "cell_type": "code",
   "execution_count": null,
   "id": "32ff75d4-aeb5-4972-8a47-03d7384405d8",
   "metadata": {},
   "outputs": [],
   "source": [
    "# here we show the water surface temperature, and you can see the region we selected is Hudson Bay!\n",
    "\n",
    "gridT_example_region_from_file.show_var_data_map(var='votemper')\n"
   ]
  },
  {
   "cell_type": "code",
   "execution_count": null,
   "id": "0f2cdf8b-b1f1-4f82-ae69-48c2d9e8c45f",
   "metadata": {},
   "outputs": [],
   "source": [
    "# we can change the color range and projection like this:\n",
    "\n",
    "gridT_example_region_from_file.show_var_data_map(var='votemper', color_range='relative', projection_name='Mercator')"
   ]
  },
  {
   "cell_type": "code",
   "execution_count": null,
   "id": "8c36d944-3969-4332-88d5-0c24270c3972",
   "metadata": {},
   "outputs": [],
   "source": [
    "# also the color palette uses the cmocean library \n",
    "# which is a package to help standardize colormaps for commonly-plotted oceanographic properties.\n",
    "\n",
    "# and here we show salinity. \n",
    "\n",
    "gridT_example_region_from_file.show_var_data_map(var='vosaline')"
   ]
  },
  {
   "cell_type": "code",
   "execution_count": null,
   "id": "4a578969-5a26-42d1-b6fa-e4c160b70335",
   "metadata": {},
   "outputs": [],
   "source": [
    "# finally we can save the figure to file:\n",
    "\n",
    "savefig_filename = gridT_example_region_from_file.attrs['filename'].replace('.nc','.png')\n",
    "gridT_example_region_from_file.show_var_data_map(var='vosaline',savefig=savefig_filename)\n"
   ]
  },
  {
   "cell_type": "markdown",
   "id": "b3c3b74e-b24e-4594-9b7e-68d4f97f70d0",
   "metadata": {},
   "source": [
    "## Example 2: icebergs <a class=\"anchor\" id=\"example2\"></a>\n",
    "\n",
    "\n",
    "We can also open iceberg and icemod files! \n",
    "Lets use the icebergs file we downloaded at the begining of the tutorial. \n"
   ]
  },
  {
   "cell_type": "code",
   "execution_count": null,
   "id": "b9e93450-8e58-40d9-8b3f-b6a5617e8281",
   "metadata": {},
   "outputs": [],
   "source": [
    "# Now lets check the icebergs example\n",
    "\n",
    "icebergs_example_filename = [filename for filename in os.listdir(ah.PACKAGE_DATA_DIR) if 'icebergs' in filename][0]\n",
    "icebergs_example_filename\n"
   ]
  },
  {
   "cell_type": "code",
   "execution_count": null,
   "id": "70a6786c-0c76-49c8-a213-76e2aebb78e6",
   "metadata": {},
   "outputs": [],
   "source": [
    "# we open the file the same way\n",
    "# we have almost all the functionallity avaialble except for depth. \n",
    "\n",
    "icebergs_example = ah.AnhaDataset(ah.PACKAGE_DATA_DIR+'/'+icebergs_example_filename)\n",
    "icebergs_example"
   ]
  },
  {
   "cell_type": "code",
   "execution_count": null,
   "id": "7780dae5-a3a1-4504-ad58-57b4ad45b286",
   "metadata": {},
   "outputs": [],
   "source": [
    "\n",
    "# we can look at the melting rate for instance:\n",
    "\n",
    "icebergs_example.data_vars['berg_floating_melt']"
   ]
  },
  {
   "cell_type": "code",
   "execution_count": null,
   "id": "9a2969dd-7401-4c56-94a4-f37087f30867",
   "metadata": {},
   "outputs": [],
   "source": [
    "\n",
    "# we first select a region\n",
    "icebergs_example_region = icebergs_example.sel(lat_range=[55,80],lon_range=[-65,-55])\n",
    "\n",
    "# and then we can map it\n",
    "icebergs_example_region.show_var_data_map('berg_floating_melt', projection_name='Mercator')\n"
   ]
  }
 ],
 "metadata": {
  "kernelspec": {
   "display_name": "Python 3 (ipykernel)",
   "language": "python",
   "name": "python3"
  },
  "language_info": {
   "codemirror_mode": {
    "name": "ipython",
    "version": 3
   },
   "file_extension": ".py",
   "mimetype": "text/x-python",
   "name": "python",
   "nbconvert_exporter": "python",
   "pygments_lexer": "ipython3",
   "version": "3.11.7"
  }
 },
 "nbformat": 4,
 "nbformat_minor": 5
}
